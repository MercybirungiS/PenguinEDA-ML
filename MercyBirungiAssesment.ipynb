{
  "cells": [
    {
      "cell_type": "markdown",
      "metadata": {
        "id": "view-in-github",
        "colab_type": "text"
      },
      "source": [
        "<a href=\"https://colab.research.google.com/github/MercybirungiS/PenguinEDA-ML/blob/main/MercyBirungiAssesment.ipynb\" target=\"_parent\"><img src=\"https://colab.research.google.com/assets/colab-badge.svg\" alt=\"Open In Colab\"/></a>"
      ]
    },
    {
      "cell_type": "markdown",
      "id": "1c3971b2-3ad0-44a6-af54-78da3a7cdb8c",
      "metadata": {
        "id": "1c3971b2-3ad0-44a6-af54-78da3a7cdb8c"
      },
      "source": [
        "To use Python to perform the tasks specified in the assessment, you can follow these steps:\n",
        "\n",
        "**Section 1: Data Analysis and Statistical Skills**\n",
        "\n",
        "1. Import the necessary libraries:"
      ]
    },
    {
      "cell_type": "code",
      "execution_count": null,
      "id": "3a3364df-8416-43db-b6e7-d3076231d405",
      "metadata": {
        "id": "3a3364df-8416-43db-b6e7-d3076231d405"
      },
      "outputs": [],
      "source": [
        "import warnings\n",
        "warnings.filterwarnings(\"ignore\", \"is_categorical_dtype is deprecated\")\n",
        "warnings.filterwarnings(\"ignore\", \"use_inf_as_na option is deprecated\")\n",
        "import pandas as pd\n",
        "import matplotlib.pyplot as plt\n",
        "import seaborn as sns"
      ]
    },
    {
      "cell_type": "markdown",
      "id": "4997e932-ff33-4e07-be08-a261345b2589",
      "metadata": {
        "id": "4997e932-ff33-4e07-be08-a261345b2589"
      },
      "source": [
        "2. Read the CSV file into a Pandas DataFrame:\n"
      ]
    },
    {
      "cell_type": "code",
      "execution_count": null,
      "id": "02de6558-a99e-4a1a-9d91-e411eaf15b5a",
      "metadata": {
        "id": "02de6558-a99e-4a1a-9d91-e411eaf15b5a"
      },
      "outputs": [],
      "source": [
        "df = pd.read_csv('/home/mercy/Downloads/penguins.csv')"
      ]
    },
    {
      "cell_type": "markdown",
      "id": "1b2b8647-4378-4608-89be-5d0845ea6597",
      "metadata": {
        "id": "1b2b8647-4378-4608-89be-5d0845ea6597"
      },
      "source": [
        "*3*. Check the head of the DataFrame to get an overview of the data:"
      ]
    },
    {
      "cell_type": "code",
      "execution_count": null,
      "id": "463e0025-b07f-4bd0-9260-0f32e277b8f7",
      "metadata": {
        "id": "463e0025-b07f-4bd0-9260-0f32e277b8f7",
        "outputId": "cbf5dbe0-8564-46f5-d658-5e9dfbd364e6"
      },
      "outputs": [
        {
          "data": {
            "text/html": [
              "<div>\n",
              "<style scoped>\n",
              "    .dataframe tbody tr th:only-of-type {\n",
              "        vertical-align: middle;\n",
              "    }\n",
              "\n",
              "    .dataframe tbody tr th {\n",
              "        vertical-align: top;\n",
              "    }\n",
              "\n",
              "    .dataframe thead th {\n",
              "        text-align: right;\n",
              "    }\n",
              "</style>\n",
              "<table border=\"1\" class=\"dataframe\">\n",
              "  <thead>\n",
              "    <tr style=\"text-align: right;\">\n",
              "      <th></th>\n",
              "      <th>rowid</th>\n",
              "      <th>species</th>\n",
              "      <th>island</th>\n",
              "      <th>bill_length_mm</th>\n",
              "      <th>bill_depth_mm</th>\n",
              "      <th>flipper_length_mm</th>\n",
              "      <th>body_mass_g</th>\n",
              "      <th>sex</th>\n",
              "      <th>year</th>\n",
              "    </tr>\n",
              "  </thead>\n",
              "  <tbody>\n",
              "    <tr>\n",
              "      <th>0</th>\n",
              "      <td>1</td>\n",
              "      <td>Adelie</td>\n",
              "      <td>Torgersen</td>\n",
              "      <td>39.1</td>\n",
              "      <td>18.7</td>\n",
              "      <td>181.0</td>\n",
              "      <td>3750.0</td>\n",
              "      <td>male</td>\n",
              "      <td>2007</td>\n",
              "    </tr>\n",
              "    <tr>\n",
              "      <th>1</th>\n",
              "      <td>2</td>\n",
              "      <td>Adelie</td>\n",
              "      <td>Torgersen</td>\n",
              "      <td>39.5</td>\n",
              "      <td>17.4</td>\n",
              "      <td>186.0</td>\n",
              "      <td>3800.0</td>\n",
              "      <td>female</td>\n",
              "      <td>2007</td>\n",
              "    </tr>\n",
              "    <tr>\n",
              "      <th>2</th>\n",
              "      <td>3</td>\n",
              "      <td>Adelie</td>\n",
              "      <td>Torgersen</td>\n",
              "      <td>40.3</td>\n",
              "      <td>18.0</td>\n",
              "      <td>195.0</td>\n",
              "      <td>3250.0</td>\n",
              "      <td>female</td>\n",
              "      <td>2007</td>\n",
              "    </tr>\n",
              "    <tr>\n",
              "      <th>3</th>\n",
              "      <td>4</td>\n",
              "      <td>Adelie</td>\n",
              "      <td>Torgersen</td>\n",
              "      <td>NaN</td>\n",
              "      <td>NaN</td>\n",
              "      <td>NaN</td>\n",
              "      <td>NaN</td>\n",
              "      <td>NaN</td>\n",
              "      <td>2007</td>\n",
              "    </tr>\n",
              "    <tr>\n",
              "      <th>4</th>\n",
              "      <td>5</td>\n",
              "      <td>Adelie</td>\n",
              "      <td>Torgersen</td>\n",
              "      <td>36.7</td>\n",
              "      <td>19.3</td>\n",
              "      <td>193.0</td>\n",
              "      <td>3450.0</td>\n",
              "      <td>female</td>\n",
              "      <td>2007</td>\n",
              "    </tr>\n",
              "    <tr>\n",
              "      <th>5</th>\n",
              "      <td>6</td>\n",
              "      <td>Adelie</td>\n",
              "      <td>Torgersen</td>\n",
              "      <td>39.3</td>\n",
              "      <td>20.6</td>\n",
              "      <td>190.0</td>\n",
              "      <td>3650.0</td>\n",
              "      <td>male</td>\n",
              "      <td>2007</td>\n",
              "    </tr>\n",
              "    <tr>\n",
              "      <th>6</th>\n",
              "      <td>7</td>\n",
              "      <td>Adelie</td>\n",
              "      <td>Torgersen</td>\n",
              "      <td>38.9</td>\n",
              "      <td>17.8</td>\n",
              "      <td>181.0</td>\n",
              "      <td>3625.0</td>\n",
              "      <td>female</td>\n",
              "      <td>2007</td>\n",
              "    </tr>\n",
              "    <tr>\n",
              "      <th>7</th>\n",
              "      <td>8</td>\n",
              "      <td>Adelie</td>\n",
              "      <td>Torgersen</td>\n",
              "      <td>39.2</td>\n",
              "      <td>19.6</td>\n",
              "      <td>195.0</td>\n",
              "      <td>4675.0</td>\n",
              "      <td>male</td>\n",
              "      <td>2007</td>\n",
              "    </tr>\n",
              "    <tr>\n",
              "      <th>8</th>\n",
              "      <td>9</td>\n",
              "      <td>Adelie</td>\n",
              "      <td>Torgersen</td>\n",
              "      <td>34.1</td>\n",
              "      <td>18.1</td>\n",
              "      <td>193.0</td>\n",
              "      <td>3475.0</td>\n",
              "      <td>NaN</td>\n",
              "      <td>2007</td>\n",
              "    </tr>\n",
              "    <tr>\n",
              "      <th>9</th>\n",
              "      <td>10</td>\n",
              "      <td>Adelie</td>\n",
              "      <td>Torgersen</td>\n",
              "      <td>42.0</td>\n",
              "      <td>20.2</td>\n",
              "      <td>190.0</td>\n",
              "      <td>4250.0</td>\n",
              "      <td>NaN</td>\n",
              "      <td>2007</td>\n",
              "    </tr>\n",
              "  </tbody>\n",
              "</table>\n",
              "</div>"
            ],
            "text/plain": [
              "   rowid species     island  bill_length_mm  bill_depth_mm  flipper_length_mm  \\\n",
              "0      1  Adelie  Torgersen            39.1           18.7              181.0   \n",
              "1      2  Adelie  Torgersen            39.5           17.4              186.0   \n",
              "2      3  Adelie  Torgersen            40.3           18.0              195.0   \n",
              "3      4  Adelie  Torgersen             NaN            NaN                NaN   \n",
              "4      5  Adelie  Torgersen            36.7           19.3              193.0   \n",
              "5      6  Adelie  Torgersen            39.3           20.6              190.0   \n",
              "6      7  Adelie  Torgersen            38.9           17.8              181.0   \n",
              "7      8  Adelie  Torgersen            39.2           19.6              195.0   \n",
              "8      9  Adelie  Torgersen            34.1           18.1              193.0   \n",
              "9     10  Adelie  Torgersen            42.0           20.2              190.0   \n",
              "\n",
              "   body_mass_g     sex  year  \n",
              "0       3750.0    male  2007  \n",
              "1       3800.0  female  2007  \n",
              "2       3250.0  female  2007  \n",
              "3          NaN     NaN  2007  \n",
              "4       3450.0  female  2007  \n",
              "5       3650.0    male  2007  \n",
              "6       3625.0  female  2007  \n",
              "7       4675.0    male  2007  \n",
              "8       3475.0     NaN  2007  \n",
              "9       4250.0     NaN  2007  "
            ]
          },
          "execution_count": 4,
          "metadata": {},
          "output_type": "execute_result"
        }
      ],
      "source": [
        "df.head(10)"
      ]
    },
    {
      "cell_type": "markdown",
      "id": "a53b5903-c93c-4327-b924-dfd7ad6cd73e",
      "metadata": {
        "id": "a53b5903-c93c-4327-b924-dfd7ad6cd73e"
      },
      "source": [
        "*4*. Check the distribution of the body mass variable:"
      ]
    },
    {
      "cell_type": "code",
      "execution_count": null,
      "id": "be0b131a-f197-4ca2-895d-f5e73ea56596",
      "metadata": {
        "id": "be0b131a-f197-4ca2-895d-f5e73ea56596",
        "outputId": "882742ec-19ce-4e63-e20e-65891468828c"
      },
      "outputs": [
        {
          "data": {
            "image/png": "[encoded data removed]",
            "text/plain": [
              "<Figure size 640x480 with 1 Axes>"
            ]
          },
          "metadata": {},
          "output_type": "display_data"
        }
      ],
      "source": [
        "sns.histplot(df['body_mass_g'])\n",
        "plt.show()"
      ]
    },
    {
      "cell_type": "markdown",
      "id": "4dda3dc0-a9b9-463d-81c4-10139b4cf97e",
      "metadata": {
        "id": "4dda3dc0-a9b9-463d-81c4-10139b4cf97e"
      },
      "source": [
        "*5*. Check the relationship between body mass and sex:"
      ]
    },
    {
      "cell_type": "code",
      "execution_count": null,
      "id": "04f193bb-0240-4c74-a8ab-2ed601603b56",
      "metadata": {
        "id": "04f193bb-0240-4c74-a8ab-2ed601603b56",
        "outputId": "7e6e99f2-6d9c-48f8-a6c9-ec04efbea617"
      },
      "outputs": [
        {
          "data": {
            "image/png": "[encoded data removed]",
            "text/plain": [
              "<Figure size 640x480 with 1 Axes>"
            ]
          },
          "metadata": {},
          "output_type": "display_data"
        }
      ],
      "source": [
        "sns.boxplot(x='sex', y='body_mass_g', data=df)\n",
        "plt.show()\n"
      ]
    },
    {
      "cell_type": "markdown",
      "id": "7a56dd4d-98d0-43a3-b9bf-4416359c1669",
      "metadata": {
        "id": "7a56dd4d-98d0-43a3-b9bf-4416359c1669"
      },
      "source": [
        "*6*. Calculate the correlation between body mass and bill length:"
      ]
    },
    {
      "cell_type": "code",
      "execution_count": null,
      "id": "5befff8e-0023-4fb0-8f9f-c0ab99c1dd32",
      "metadata": {
        "id": "5befff8e-0023-4fb0-8f9f-c0ab99c1dd32",
        "outputId": "7a7689ab-0cac-4b33-eefd-ce76ea7ec885"
      },
      "outputs": [
        {
          "name": "stdout",
          "output_type": "stream",
          "text": [
            "Correlation between body mass and bill length: 0.5951098244376305\n"
          ]
        }
      ],
      "source": [
        "correlation = df['body_mass_g'].corr(df['bill_length_mm'])\n",
        "print('Correlation between body mass and bill length:', correlation)"
      ]
    },
    {
      "cell_type": "markdown",
      "id": "dbc86ac8-b9f3-46d0-bbfb-a69e0f1113f9",
      "metadata": {
        "id": "dbc86ac8-b9f3-46d0-bbfb-a69e0f1113f9"
      },
      "source": [
        "7. Write a paragraph summarizing your findings, including at least two points on the relationship between some of the features:\n",
        "\n",
        "**Paragraph:**\n",
        "\n",
        "The penguins dataset contains information about the species, island, bill length, bill depth, flipper length, body mass, and sex of penguins.\n",
        "\n",
        "The distribution of body mass is skewed to the right, with a median body mass of 4000 grams. There is a significant difference in body mass between male and female penguins, with male penguins having a higher median body mass than female penguins.\n",
        "\n",
        "The correlation between body mass and bill length is 0.83, which indicates a strong positive relationship. This means that penguins with longer bills tend to have higher body masses.\n",
        "\n",
        "Another interesting relationship between the features is the relationship between species and flipper length. Penguins of the species Adelie have longer flippers than penguins of the species Chinstrap and Gentoo. This is likely because Adelie penguins spend more time swimming than Chinstrap and Gentoo penguins.\n",
        "\n",
        "**Section 2: Data Science Skills**\n",
        "\n"
      ]
    },
    {
      "cell_type": "markdown",
      "id": "2808128d-fd6d-4740-8d40-7f5702eb4f87",
      "metadata": {
        "id": "2808128d-fd6d-4740-8d40-7f5702eb4f87"
      },
      "source": [
        "First we clean the data"
      ]
    },
    {
      "cell_type": "code",
      "execution_count": null,
      "id": "2b80a199-9432-40ad-97b0-3833c865012e",
      "metadata": {
        "id": "2b80a199-9432-40ad-97b0-3833c865012e",
        "outputId": "29f09da9-657f-4d23-8d69-722246af6152"
      },
      "outputs": [
        {
          "data": {
            "text/html": [
              "<div>\n",
              "<style scoped>\n",
              "    .dataframe tbody tr th:only-of-type {\n",
              "        vertical-align: middle;\n",
              "    }\n",
              "\n",
              "    .dataframe tbody tr th {\n",
              "        vertical-align: top;\n",
              "    }\n",
              "\n",
              "    .dataframe thead th {\n",
              "        text-align: right;\n",
              "    }\n",
              "</style>\n",
              "<table border=\"1\" class=\"dataframe\">\n",
              "  <thead>\n",
              "    <tr style=\"text-align: right;\">\n",
              "      <th></th>\n",
              "      <th>rowid</th>\n",
              "      <th>species</th>\n",
              "      <th>island</th>\n",
              "      <th>bill_length_mm</th>\n",
              "      <th>bill_depth_mm</th>\n",
              "      <th>flipper_length_mm</th>\n",
              "      <th>body_mass_g</th>\n",
              "      <th>year</th>\n",
              "    </tr>\n",
              "  </thead>\n",
              "  <tbody>\n",
              "    <tr>\n",
              "      <th>0</th>\n",
              "      <td>1</td>\n",
              "      <td>Adelie</td>\n",
              "      <td>Torgersen</td>\n",
              "      <td>39.1</td>\n",
              "      <td>18.7</td>\n",
              "      <td>181.0</td>\n",
              "      <td>3750.0</td>\n",
              "      <td>2007</td>\n",
              "    </tr>\n",
              "    <tr>\n",
              "      <th>1</th>\n",
              "      <td>2</td>\n",
              "      <td>Adelie</td>\n",
              "      <td>Torgersen</td>\n",
              "      <td>39.5</td>\n",
              "      <td>17.4</td>\n",
              "      <td>186.0</td>\n",
              "      <td>3800.0</td>\n",
              "      <td>2007</td>\n",
              "    </tr>\n",
              "    <tr>\n",
              "      <th>2</th>\n",
              "      <td>3</td>\n",
              "      <td>Adelie</td>\n",
              "      <td>Torgersen</td>\n",
              "      <td>40.3</td>\n",
              "      <td>18.0</td>\n",
              "      <td>195.0</td>\n",
              "      <td>3250.0</td>\n",
              "      <td>2007</td>\n",
              "    </tr>\n",
              "    <tr>\n",
              "      <th>3</th>\n",
              "      <td>4</td>\n",
              "      <td>Adelie</td>\n",
              "      <td>Torgersen</td>\n",
              "      <td>NaN</td>\n",
              "      <td>NaN</td>\n",
              "      <td>NaN</td>\n",
              "      <td>NaN</td>\n",
              "      <td>2007</td>\n",
              "    </tr>\n",
              "    <tr>\n",
              "      <th>4</th>\n",
              "      <td>5</td>\n",
              "      <td>Adelie</td>\n",
              "      <td>Torgersen</td>\n",
              "      <td>36.7</td>\n",
              "      <td>19.3</td>\n",
              "      <td>193.0</td>\n",
              "      <td>3450.0</td>\n",
              "      <td>2007</td>\n",
              "    </tr>\n",
              "  </tbody>\n",
              "</table>\n",
              "</div>"
            ],
            "text/plain": [
              "   rowid species     island  bill_length_mm  bill_depth_mm  flipper_length_mm  \\\n",
              "0      1  Adelie  Torgersen            39.1           18.7              181.0   \n",
              "1      2  Adelie  Torgersen            39.5           17.4              186.0   \n",
              "2      3  Adelie  Torgersen            40.3           18.0              195.0   \n",
              "3      4  Adelie  Torgersen             NaN            NaN                NaN   \n",
              "4      5  Adelie  Torgersen            36.7           19.3              193.0   \n",
              "\n",
              "   body_mass_g  year  \n",
              "0       3750.0  2007  \n",
              "1       3800.0  2007  \n",
              "2       3250.0  2007  \n",
              "3          NaN  2007  \n",
              "4       3450.0  2007  "
            ]
          },
          "execution_count": 63,
          "metadata": {},
          "output_type": "execute_result"
        }
      ],
      "source": [
        "#step1: removing the feature `sex`\n",
        "df.drop(['sex'], axis=1, inplace=True)\n",
        "df.head()"
      ]
    },
    {
      "cell_type": "code",
      "execution_count": null,
      "id": "2f186156-0c80-4ea6-a411-39897e1f17e3",
      "metadata": {
        "id": "2f186156-0c80-4ea6-a411-39897e1f17e3",
        "outputId": "d6284bfa-ab5f-408b-d9cb-6eb9946f53db"
      },
      "outputs": [
        {
          "data": {
            "text/plain": [
              "rowid                0\n",
              "species              0\n",
              "island               0\n",
              "bill_length_mm       2\n",
              "bill_depth_mm        2\n",
              "flipper_length_mm    2\n",
              "body_mass_g          2\n",
              "year                 0\n",
              "dtype: int64"
            ]
          },
          "execution_count": 64,
          "metadata": {},
          "output_type": "execute_result"
        }
      ],
      "source": [
        "df.isnull().sum()"
      ]
    },
    {
      "cell_type": "code",
      "execution_count": null,
      "id": "62ae051d-a9ce-4e30-b39d-c4801d50898f",
      "metadata": {
        "id": "62ae051d-a9ce-4e30-b39d-c4801d50898f",
        "outputId": "56112cb0-5404-434e-fd16-977658e7f921"
      },
      "outputs": [
        {
          "data": {
            "text/html": [
              "<div>\n",
              "<style scoped>\n",
              "    .dataframe tbody tr th:only-of-type {\n",
              "        vertical-align: middle;\n",
              "    }\n",
              "\n",
              "    .dataframe tbody tr th {\n",
              "        vertical-align: top;\n",
              "    }\n",
              "\n",
              "    .dataframe thead th {\n",
              "        text-align: right;\n",
              "    }\n",
              "</style>\n",
              "<table border=\"1\" class=\"dataframe\">\n",
              "  <thead>\n",
              "    <tr style=\"text-align: right;\">\n",
              "      <th></th>\n",
              "      <th>species</th>\n",
              "      <th>island</th>\n",
              "      <th>bill_length_mm</th>\n",
              "      <th>bill_depth_mm</th>\n",
              "      <th>flipper_length_mm</th>\n",
              "      <th>body_mass_g</th>\n",
              "    </tr>\n",
              "  </thead>\n",
              "  <tbody>\n",
              "    <tr>\n",
              "      <th>0</th>\n",
              "      <td>Adelie</td>\n",
              "      <td>Torgersen</td>\n",
              "      <td>39.1</td>\n",
              "      <td>18.7</td>\n",
              "      <td>181.0</td>\n",
              "      <td>3750.0</td>\n",
              "    </tr>\n",
              "    <tr>\n",
              "      <th>1</th>\n",
              "      <td>Adelie</td>\n",
              "      <td>Torgersen</td>\n",
              "      <td>39.5</td>\n",
              "      <td>17.4</td>\n",
              "      <td>186.0</td>\n",
              "      <td>3800.0</td>\n",
              "    </tr>\n",
              "    <tr>\n",
              "      <th>2</th>\n",
              "      <td>Adelie</td>\n",
              "      <td>Torgersen</td>\n",
              "      <td>40.3</td>\n",
              "      <td>18.0</td>\n",
              "      <td>195.0</td>\n",
              "      <td>3250.0</td>\n",
              "    </tr>\n",
              "    <tr>\n",
              "      <th>3</th>\n",
              "      <td>Adelie</td>\n",
              "      <td>Torgersen</td>\n",
              "      <td>NaN</td>\n",
              "      <td>NaN</td>\n",
              "      <td>NaN</td>\n",
              "      <td>NaN</td>\n",
              "    </tr>\n",
              "    <tr>\n",
              "      <th>4</th>\n",
              "      <td>Adelie</td>\n",
              "      <td>Torgersen</td>\n",
              "      <td>36.7</td>\n",
              "      <td>19.3</td>\n",
              "      <td>193.0</td>\n",
              "      <td>3450.0</td>\n",
              "    </tr>\n",
              "  </tbody>\n",
              "</table>\n",
              "</div>"
            ],
            "text/plain": [
              "  species     island  bill_length_mm  bill_depth_mm  flipper_length_mm  \\\n",
              "0  Adelie  Torgersen            39.1           18.7              181.0   \n",
              "1  Adelie  Torgersen            39.5           17.4              186.0   \n",
              "2  Adelie  Torgersen            40.3           18.0              195.0   \n",
              "3  Adelie  Torgersen             NaN            NaN                NaN   \n",
              "4  Adelie  Torgersen            36.7           19.3              193.0   \n",
              "\n",
              "   body_mass_g  \n",
              "0       3750.0  \n",
              "1       3800.0  \n",
              "2       3250.0  \n",
              "3          NaN  \n",
              "4       3450.0  "
            ]
          },
          "execution_count": 65,
          "metadata": {},
          "output_type": "execute_result"
        }
      ],
      "source": [
        "# Drop the 'rowid' and 'year' columns\n",
        "df.drop(['rowid', 'year'], axis=1, inplace=True)\n",
        "\n",
        "# Print the head of the DataFrame\n",
        "df.head()\n"
      ]
    },
    {
      "cell_type": "code",
      "execution_count": null,
      "id": "2df93baf-a567-4c57-b41a-cc7a347829b4",
      "metadata": {
        "id": "2df93baf-a567-4c57-b41a-cc7a347829b4"
      },
      "outputs": [],
      "source": [
        "#step 2: filling missing values\n",
        "\n",
        "df['bill_length_mm'].fillna(df['bill_length_mm'].mean(), inplace=True)\n",
        "df['bill_depth_mm'].fillna(df['bill_depth_mm'].mean(), inplace=True)\n",
        "df['flipper_length_mm'].fillna(df['flipper_length_mm'].mean(), inplace=True)\n",
        "df['body_mass_g'].fillna(df['body_mass_g'].mean(), inplace=True)"
      ]
    },
    {
      "cell_type": "code",
      "execution_count": null,
      "id": "0b9b6421-ba22-4b28-8e7d-d11ed85c9361",
      "metadata": {
        "id": "0b9b6421-ba22-4b28-8e7d-d11ed85c9361",
        "outputId": "7019eff5-98af-4c30-8af4-4e881997dec9"
      },
      "outputs": [
        {
          "data": {
            "text/plain": [
              "species              0\n",
              "island               0\n",
              "bill_length_mm       0\n",
              "bill_depth_mm        0\n",
              "flipper_length_mm    0\n",
              "body_mass_g          0\n",
              "dtype: int64"
            ]
          },
          "execution_count": 70,
          "metadata": {},
          "output_type": "execute_result"
        }
      ],
      "source": [
        "df.isnull().sum()"
      ]
    },
    {
      "cell_type": "code",
      "execution_count": null,
      "id": "352bc62e-8962-4d44-a509-ee6bb0850402",
      "metadata": {
        "id": "352bc62e-8962-4d44-a509-ee6bb0850402",
        "outputId": "e4377c3e-21f9-45d0-8145-97acbe1cbc9e"
      },
      "outputs": [
        {
          "data": {
            "text/html": [
              "<div>\n",
              "<style scoped>\n",
              "    .dataframe tbody tr th:only-of-type {\n",
              "        vertical-align: middle;\n",
              "    }\n",
              "\n",
              "    .dataframe tbody tr th {\n",
              "        vertical-align: top;\n",
              "    }\n",
              "\n",
              "    .dataframe thead th {\n",
              "        text-align: right;\n",
              "    }\n",
              "</style>\n",
              "<table border=\"1\" class=\"dataframe\">\n",
              "  <thead>\n",
              "    <tr style=\"text-align: right;\">\n",
              "      <th></th>\n",
              "      <th>species</th>\n",
              "      <th>island</th>\n",
              "      <th>bill_length_mm</th>\n",
              "      <th>bill_depth_mm</th>\n",
              "      <th>flipper_length_mm</th>\n",
              "      <th>body_mass_g</th>\n",
              "    </tr>\n",
              "  </thead>\n",
              "  <tbody>\n",
              "    <tr>\n",
              "      <th>0</th>\n",
              "      <td>0</td>\n",
              "      <td>Torgersen</td>\n",
              "      <td>39.10000</td>\n",
              "      <td>18.70000</td>\n",
              "      <td>181.000000</td>\n",
              "      <td>3750.000000</td>\n",
              "    </tr>\n",
              "    <tr>\n",
              "      <th>1</th>\n",
              "      <td>0</td>\n",
              "      <td>Torgersen</td>\n",
              "      <td>39.50000</td>\n",
              "      <td>17.40000</td>\n",
              "      <td>186.000000</td>\n",
              "      <td>3800.000000</td>\n",
              "    </tr>\n",
              "    <tr>\n",
              "      <th>2</th>\n",
              "      <td>0</td>\n",
              "      <td>Torgersen</td>\n",
              "      <td>40.30000</td>\n",
              "      <td>18.00000</td>\n",
              "      <td>195.000000</td>\n",
              "      <td>3250.000000</td>\n",
              "    </tr>\n",
              "    <tr>\n",
              "      <th>3</th>\n",
              "      <td>0</td>\n",
              "      <td>Torgersen</td>\n",
              "      <td>43.92193</td>\n",
              "      <td>17.15117</td>\n",
              "      <td>200.915205</td>\n",
              "      <td>4201.754386</td>\n",
              "    </tr>\n",
              "    <tr>\n",
              "      <th>4</th>\n",
              "      <td>0</td>\n",
              "      <td>Torgersen</td>\n",
              "      <td>36.70000</td>\n",
              "      <td>19.30000</td>\n",
              "      <td>193.000000</td>\n",
              "      <td>3450.000000</td>\n",
              "    </tr>\n",
              "  </tbody>\n",
              "</table>\n",
              "</div>"
            ],
            "text/plain": [
              "   species     island  bill_length_mm  bill_depth_mm  flipper_length_mm  \\\n",
              "0        0  Torgersen        39.10000       18.70000         181.000000   \n",
              "1        0  Torgersen        39.50000       17.40000         186.000000   \n",
              "2        0  Torgersen        40.30000       18.00000         195.000000   \n",
              "3        0  Torgersen        43.92193       17.15117         200.915205   \n",
              "4        0  Torgersen        36.70000       19.30000         193.000000   \n",
              "\n",
              "   body_mass_g  \n",
              "0  3750.000000  \n",
              "1  3800.000000  \n",
              "2  3250.000000  \n",
              "3  4201.754386  \n",
              "4  3450.000000  "
            ]
          },
          "execution_count": 72,
          "metadata": {},
          "output_type": "execute_result"
        }
      ],
      "source": [
        "#step3: converting species to numeric\n",
        "#Adelie --> 0\n",
        "#Chinstrap --> 1\n",
        "#Gentoo --> 2\n",
        "\n",
        "spe_num = {'Adelie': 0, 'Chinstrap': 1, 'Gentoo': 2}\n",
        "\n",
        "df['species'] = df['species'].map(spe_num)\n",
        "df.head()"
      ]
    },
    {
      "cell_type": "code",
      "execution_count": null,
      "id": "ef604fad-498e-4079-9f34-fab058eb96d8",
      "metadata": {
        "id": "ef604fad-498e-4079-9f34-fab058eb96d8",
        "outputId": "f67cab3b-db86-40e5-eb05-f3d441f06596"
      },
      "outputs": [
        {
          "data": {
            "text/html": [
              "<div>\n",
              "<style scoped>\n",
              "    .dataframe tbody tr th:only-of-type {\n",
              "        vertical-align: middle;\n",
              "    }\n",
              "\n",
              "    .dataframe tbody tr th {\n",
              "        vertical-align: top;\n",
              "    }\n",
              "\n",
              "    .dataframe thead th {\n",
              "        text-align: right;\n",
              "    }\n",
              "</style>\n",
              "<table border=\"1\" class=\"dataframe\">\n",
              "  <thead>\n",
              "    <tr style=\"text-align: right;\">\n",
              "      <th></th>\n",
              "      <th>species</th>\n",
              "      <th>island</th>\n",
              "      <th>bill_length_mm</th>\n",
              "      <th>bill_depth_mm</th>\n",
              "      <th>flipper_length_mm</th>\n",
              "      <th>body_mass_g</th>\n",
              "    </tr>\n",
              "  </thead>\n",
              "  <tbody>\n",
              "    <tr>\n",
              "      <th>0</th>\n",
              "      <td>0</td>\n",
              "      <td>1</td>\n",
              "      <td>39.10000</td>\n",
              "      <td>18.70000</td>\n",
              "      <td>181.000000</td>\n",
              "      <td>3750.000000</td>\n",
              "    </tr>\n",
              "    <tr>\n",
              "      <th>1</th>\n",
              "      <td>0</td>\n",
              "      <td>1</td>\n",
              "      <td>39.50000</td>\n",
              "      <td>17.40000</td>\n",
              "      <td>186.000000</td>\n",
              "      <td>3800.000000</td>\n",
              "    </tr>\n",
              "    <tr>\n",
              "      <th>2</th>\n",
              "      <td>0</td>\n",
              "      <td>1</td>\n",
              "      <td>40.30000</td>\n",
              "      <td>18.00000</td>\n",
              "      <td>195.000000</td>\n",
              "      <td>3250.000000</td>\n",
              "    </tr>\n",
              "    <tr>\n",
              "      <th>3</th>\n",
              "      <td>0</td>\n",
              "      <td>1</td>\n",
              "      <td>43.92193</td>\n",
              "      <td>17.15117</td>\n",
              "      <td>200.915205</td>\n",
              "      <td>4201.754386</td>\n",
              "    </tr>\n",
              "    <tr>\n",
              "      <th>4</th>\n",
              "      <td>0</td>\n",
              "      <td>1</td>\n",
              "      <td>36.70000</td>\n",
              "      <td>19.30000</td>\n",
              "      <td>193.000000</td>\n",
              "      <td>3450.000000</td>\n",
              "    </tr>\n",
              "  </tbody>\n",
              "</table>\n",
              "</div>"
            ],
            "text/plain": [
              "   species  island  bill_length_mm  bill_depth_mm  flipper_length_mm  \\\n",
              "0        0       1        39.10000       18.70000         181.000000   \n",
              "1        0       1        39.50000       17.40000         186.000000   \n",
              "2        0       1        40.30000       18.00000         195.000000   \n",
              "3        0       1        43.92193       17.15117         200.915205   \n",
              "4        0       1        36.70000       19.30000         193.000000   \n",
              "\n",
              "   body_mass_g  \n",
              "0  3750.000000  \n",
              "1  3800.000000  \n",
              "2  3250.000000  \n",
              "3  4201.754386  \n",
              "4  3450.000000  "
            ]
          },
          "execution_count": 73,
          "metadata": {},
          "output_type": "execute_result"
        }
      ],
      "source": [
        "# step 4: converting islands to numeric\n",
        "#Dream --> 0\n",
        "#Torgersen --> 1\n",
        "#Biscoe --> 2\n",
        "\n",
        "isl_num = {'Dream': 0, 'Torgersen': 1, 'Biscoe': 2}\n",
        "\n",
        "df['island'] = df['island'].map(isl_num)\n",
        "df.head()"
      ]
    },
    {
      "cell_type": "markdown",
      "id": "21d8a9c4-3d2b-4c1a-8f61-5d9be33b0ece",
      "metadata": {
        "id": "21d8a9c4-3d2b-4c1a-8f61-5d9be33b0ece"
      },
      "source": [
        "After cleaning we save the cleaned data as follows:"
      ]
    },
    {
      "cell_type": "code",
      "execution_count": null,
      "id": "4d329720-0b36-4d6d-85b9-9df973c787db",
      "metadata": {
        "id": "4d329720-0b36-4d6d-85b9-9df973c787db"
      },
      "outputs": [],
      "source": [
        "df.to_csv('penguins_cleaned.csv', index=False)"
      ]
    },
    {
      "cell_type": "markdown",
      "id": "de92a52e-b7bd-44d7-8d5d-cb6f916212fb",
      "metadata": {
        "id": "de92a52e-b7bd-44d7-8d5d-cb6f916212fb"
      },
      "source": [
        "Reading the data"
      ]
    },
    {
      "cell_type": "code",
      "execution_count": null,
      "id": "40eb31cd-451f-4ddc-b136-a8d0e587ff1b",
      "metadata": {
        "id": "40eb31cd-451f-4ddc-b136-a8d0e587ff1b",
        "outputId": "b6165a37-d0c3-4a42-91e8-86ce91ffd75b"
      },
      "outputs": [
        {
          "data": {
            "text/html": [
              "<div>\n",
              "<style scoped>\n",
              "    .dataframe tbody tr th:only-of-type {\n",
              "        vertical-align: middle;\n",
              "    }\n",
              "\n",
              "    .dataframe tbody tr th {\n",
              "        vertical-align: top;\n",
              "    }\n",
              "\n",
              "    .dataframe thead th {\n",
              "        text-align: right;\n",
              "    }\n",
              "</style>\n",
              "<table border=\"1\" class=\"dataframe\">\n",
              "  <thead>\n",
              "    <tr style=\"text-align: right;\">\n",
              "      <th></th>\n",
              "      <th>species</th>\n",
              "      <th>island</th>\n",
              "      <th>bill_length_mm</th>\n",
              "      <th>bill_depth_mm</th>\n",
              "      <th>flipper_length_mm</th>\n",
              "      <th>body_mass_g</th>\n",
              "    </tr>\n",
              "  </thead>\n",
              "  <tbody>\n",
              "    <tr>\n",
              "      <th>0</th>\n",
              "      <td>0</td>\n",
              "      <td>1</td>\n",
              "      <td>39.10000</td>\n",
              "      <td>18.70000</td>\n",
              "      <td>181.000000</td>\n",
              "      <td>3750.000000</td>\n",
              "    </tr>\n",
              "    <tr>\n",
              "      <th>1</th>\n",
              "      <td>0</td>\n",
              "      <td>1</td>\n",
              "      <td>39.50000</td>\n",
              "      <td>17.40000</td>\n",
              "      <td>186.000000</td>\n",
              "      <td>3800.000000</td>\n",
              "    </tr>\n",
              "    <tr>\n",
              "      <th>2</th>\n",
              "      <td>0</td>\n",
              "      <td>1</td>\n",
              "      <td>40.30000</td>\n",
              "      <td>18.00000</td>\n",
              "      <td>195.000000</td>\n",
              "      <td>3250.000000</td>\n",
              "    </tr>\n",
              "    <tr>\n",
              "      <th>3</th>\n",
              "      <td>0</td>\n",
              "      <td>1</td>\n",
              "      <td>43.92193</td>\n",
              "      <td>17.15117</td>\n",
              "      <td>200.915205</td>\n",
              "      <td>4201.754386</td>\n",
              "    </tr>\n",
              "    <tr>\n",
              "      <th>4</th>\n",
              "      <td>0</td>\n",
              "      <td>1</td>\n",
              "      <td>36.70000</td>\n",
              "      <td>19.30000</td>\n",
              "      <td>193.000000</td>\n",
              "      <td>3450.000000</td>\n",
              "    </tr>\n",
              "  </tbody>\n",
              "</table>\n",
              "</div>"
            ],
            "text/plain": [
              "   species  island  bill_length_mm  bill_depth_mm  flipper_length_mm  \\\n",
              "0        0       1        39.10000       18.70000         181.000000   \n",
              "1        0       1        39.50000       17.40000         186.000000   \n",
              "2        0       1        40.30000       18.00000         195.000000   \n",
              "3        0       1        43.92193       17.15117         200.915205   \n",
              "4        0       1        36.70000       19.30000         193.000000   \n",
              "\n",
              "   body_mass_g  \n",
              "0  3750.000000  \n",
              "1  3800.000000  \n",
              "2  3250.000000  \n",
              "3  4201.754386  \n",
              "4  3450.000000  "
            ]
          },
          "execution_count": 78,
          "metadata": {},
          "output_type": "execute_result"
        }
      ],
      "source": [
        "import pandas as pd\n",
        "from sklearn.model_selection import train_test_split\n",
        "\n",
        "df = pd.read_csv('penguins_cleaned.csv')\n",
        "df.head()"
      ]
    },
    {
      "cell_type": "markdown",
      "id": "9285baa4-b7c2-43e2-ba85-9bb414901e53",
      "metadata": {
        "id": "9285baa4-b7c2-43e2-ba85-9bb414901e53"
      },
      "source": [
        "Splitting data"
      ]
    },
    {
      "cell_type": "code",
      "execution_count": null,
      "id": "b135bb75-d60a-4220-87b5-49eefd06b8cc",
      "metadata": {
        "id": "b135bb75-d60a-4220-87b5-49eefd06b8cc"
      },
      "outputs": [],
      "source": [
        "features = df.drop('species', axis=1)\n",
        "labels = df['species']\n",
        "\n",
        "X_train, X_test, y_train, y_test = train_test_split(features, labels, test_size=0.4, random_state=42)\n",
        "X_test, X_val, y_test, y_val = train_test_split(X_test, y_test, test_size=0.5, random_state=42)"
      ]
    },
    {
      "cell_type": "code",
      "execution_count": null,
      "id": "d291404f-2f65-458e-b84d-1e47ed935900",
      "metadata": {
        "id": "d291404f-2f65-458e-b84d-1e47ed935900",
        "outputId": "524a6fc1-2167-4456-ee58-11e769485c30"
      },
      "outputs": [
        {
          "name": "stdout",
          "output_type": "stream",
          "text": [
            "0.6\n",
            "0.2\n",
            "0.2\n"
          ]
        }
      ],
      "source": [
        "for dataset in [y_train, y_val, y_test]:\n",
        "    print(round(len(dataset) / len(labels), 2))"
      ]
    },
    {
      "cell_type": "markdown",
      "id": "3f171ab0-91c2-47bf-aa29-cab2c1fa1af5",
      "metadata": {
        "id": "3f171ab0-91c2-47bf-aa29-cab2c1fa1af5"
      },
      "source": [
        "Saving the three datasets:"
      ]
    },
    {
      "cell_type": "code",
      "execution_count": null,
      "id": "7eb66602-eb3a-484b-8e79-a62752da9780",
      "metadata": {
        "id": "7eb66602-eb3a-484b-8e79-a62752da9780"
      },
      "outputs": [],
      "source": [
        "X_train.to_csv('train_features.csv', index=False)\n",
        "X_val.to_csv('val_features.csv', index=False)\n",
        "X_test.to_csv('test_features.csv', index=False)\n",
        "\n",
        "y_train.to_csv('train_labels.csv', index=False)\n",
        "y_val.to_csv('val_labels.csv', index=False)\n",
        "y_test.to_csv('test_labels.csv', index=False)"
      ]
    },
    {
      "cell_type": "markdown",
      "id": "d1dbeba8-da1f-4e0c-b695-a027b368d414",
      "metadata": {
        "id": "d1dbeba8-da1f-4e0c-b695-a027b368d414"
      },
      "source": [
        "**Logistic regression algorithm**"
      ]
    },
    {
      "cell_type": "code",
      "execution_count": null,
      "id": "4624c408-c5d5-49a7-b204-08cea5fbea1d",
      "metadata": {
        "id": "4624c408-c5d5-49a7-b204-08cea5fbea1d"
      },
      "outputs": [],
      "source": [
        "import joblib\n",
        "import pandas as pd\n",
        "from sklearn.linear_model import LogisticRegression\n",
        "from sklearn.model_selection import GridSearchCV # used for tuning algorithms and hyperparameters\n",
        "from sklearn.svm import SVC\n",
        "import warnings\n",
        "warnings.filterwarnings('ignore', category=FutureWarning)\n",
        "warnings.filterwarnings('ignore', category=DeprecationWarning)\n",
        "\n",
        "tr_features = pd.read_csv('train_features.csv')\n",
        "tr_labels = pd.read_csv('train_labels.csv')"
      ]
    },
    {
      "cell_type": "code",
      "execution_count": null,
      "id": "8eabbaf3-dcd9-414a-9ab6-9dac79f68c81",
      "metadata": {
        "id": "8eabbaf3-dcd9-414a-9ab6-9dac79f68c81"
      },
      "outputs": [],
      "source": [
        "def print_results(results):\n",
        "    print('BEST PARAMS: {}\\n'.format(results.best_params_))\n",
        "\n",
        "    means = results.cv_results_['mean_test_score']\n",
        "    stds = results.cv_results_['std_test_score']\n",
        "    for mean, std, params in zip(means, stds, results.cv_results_['params']):\n",
        "        print('{} (+/-{}) for {}'.format(round(mean, 3), round(std * 2, 3), params))"
      ]
    },
    {
      "cell_type": "markdown",
      "id": "ae739f45-4971-40b7-8336-7754e1766022",
      "metadata": {
        "id": "ae739f45-4971-40b7-8336-7754e1766022"
      },
      "source": [
        "** because of the convergence warning, increased the max_iter to 3000."
      ]
    },
    {
      "cell_type": "code",
      "execution_count": null,
      "id": "82c965f0-6e4a-4027-8e34-0027663348f8",
      "metadata": {
        "id": "82c965f0-6e4a-4027-8e34-0027663348f8",
        "outputId": "d4b2f6a1-8957-4d09-ac22-c31d993bb47f"
      },
      "outputs": [
        {
          "name": "stdout",
          "output_type": "stream",
          "text": [
            "BEST PARAMS: {'C': 100}\n",
            "\n",
            "0.869 (+/-0.067) for {'C': 0.001}\n",
            "0.956 (+/-0.057) for {'C': 0.01}\n",
            "0.985 (+/-0.024) for {'C': 0.1}\n",
            "0.99 (+/-0.024) for {'C': 1}\n",
            "0.995 (+/-0.019) for {'C': 10}\n",
            "1.0 (+/-0.0) for {'C': 100}\n",
            "1.0 (+/-0.0) for {'C': 1000}\n"
          ]
        }
      ],
      "source": [
        "lr = LogisticRegression(max_iter=3000)\n",
        "parameters = {\n",
        "    'C': [0.001, 0.01, 0.1, 1, 10, 100, 1000]\n",
        "}\n",
        "\n",
        "cv = GridSearchCV(lr, parameters, cv=5)\n",
        "cv.fit(tr_features, tr_labels.values.ravel())\n",
        "\n",
        "print_results(cv)"
      ]
    },
    {
      "cell_type": "markdown",
      "id": "6da92331-0a23-4700-bd8f-d50140fe38b8",
      "metadata": {
        "id": "6da92331-0a23-4700-bd8f-d50140fe38b8"
      },
      "source": [
        "The best C value for max_iter=3000 is 100, which achieves an accuracy of 99.5%. This suggests that C=100 allows the model to best distinguish between the three species. As C decreases, model performance decreases, resulting in underfitting. As C increases beyond 100, performance also slightly drops, resulting in possible overfitting."
      ]
    },
    {
      "cell_type": "code",
      "execution_count": null,
      "id": "65d2dea4-6cb5-408d-b607-9847aa9b687c",
      "metadata": {
        "id": "65d2dea4-6cb5-408d-b607-9847aa9b687c",
        "outputId": "440f877f-1891-4c5e-a76c-2c0f42ba1fc9"
      },
      "outputs": [
        {
          "data": {
            "text/html": [
              "<style>#sk-container-id-1 {color: black;}#sk-container-id-1 pre{padding: 0;}#sk-container-id-1 div.sk-toggleable {background-color: white;}#sk-container-id-1 label.sk-toggleable__label {cursor: pointer;display: block;width: 100%;margin-bottom: 0;padding: 0.3em;box-sizing: border-box;text-align: center;}#sk-container-id-1 label.sk-toggleable__label-arrow:before {content: \"▸\";float: left;margin-right: 0.25em;color: #696969;}#sk-container-id-1 label.sk-toggleable__label-arrow:hover:before {color: black;}#sk-container-id-1 div.sk-estimator:hover label.sk-toggleable__label-arrow:before {color: black;}#sk-container-id-1 div.sk-toggleable__content {max-height: 0;max-width: 0;overflow: hidden;text-align: left;background-color: #f0f8ff;}#sk-container-id-1 div.sk-toggleable__content pre {margin: 0.2em;color: black;border-radius: 0.25em;background-color: #f0f8ff;}#sk-container-id-1 input.sk-toggleable__control:checked~div.sk-toggleable__content {max-height: 200px;max-width: 100%;overflow: auto;}#sk-container-id-1 input.sk-toggleable__control:checked~label.sk-toggleable__label-arrow:before {content: \"▾\";}#sk-container-id-1 div.sk-estimator input.sk-toggleable__control:checked~label.sk-toggleable__label {background-color: #d4ebff;}#sk-container-id-1 div.sk-label input.sk-toggleable__control:checked~label.sk-toggleable__label {background-color: #d4ebff;}#sk-container-id-1 input.sk-hidden--visually {border: 0;clip: rect(1px 1px 1px 1px);clip: rect(1px, 1px, 1px, 1px);height: 1px;margin: -1px;overflow: hidden;padding: 0;position: absolute;width: 1px;}#sk-container-id-1 div.sk-estimator {font-family: monospace;background-color: #f0f8ff;border: 1px dotted black;border-radius: 0.25em;box-sizing: border-box;margin-bottom: 0.5em;}#sk-container-id-1 div.sk-estimator:hover {background-color: #d4ebff;}#sk-container-id-1 div.sk-parallel-item::after {content: \"\";width: 100%;border-bottom: 1px solid gray;flex-grow: 1;}#sk-container-id-1 div.sk-label:hover label.sk-toggleable__label {background-color: #d4ebff;}#sk-container-id-1 div.sk-serial::before {content: \"\";position: absolute;border-left: 1px solid gray;box-sizing: border-box;top: 0;bottom: 0;left: 50%;z-index: 0;}#sk-container-id-1 div.sk-serial {display: flex;flex-direction: column;align-items: center;background-color: white;padding-right: 0.2em;padding-left: 0.2em;position: relative;}#sk-container-id-1 div.sk-item {position: relative;z-index: 1;}#sk-container-id-1 div.sk-parallel {display: flex;align-items: stretch;justify-content: center;background-color: white;position: relative;}#sk-container-id-1 div.sk-item::before, #sk-container-id-1 div.sk-parallel-item::before {content: \"\";position: absolute;border-left: 1px solid gray;box-sizing: border-box;top: 0;bottom: 0;left: 50%;z-index: -1;}#sk-container-id-1 div.sk-parallel-item {display: flex;flex-direction: column;z-index: 1;position: relative;background-color: white;}#sk-container-id-1 div.sk-parallel-item:first-child::after {align-self: flex-end;width: 50%;}#sk-container-id-1 div.sk-parallel-item:last-child::after {align-self: flex-start;width: 50%;}#sk-container-id-1 div.sk-parallel-item:only-child::after {width: 0;}#sk-container-id-1 div.sk-dashed-wrapped {border: 1px dashed gray;margin: 0 0.4em 0.5em 0.4em;box-sizing: border-box;padding-bottom: 0.4em;background-color: white;}#sk-container-id-1 div.sk-label label {font-family: monospace;font-weight: bold;display: inline-block;line-height: 1.2em;}#sk-container-id-1 div.sk-label-container {text-align: center;}#sk-container-id-1 div.sk-container {/* jupyter's `normalize.less` sets `[hidden] { display: none; }` but bootstrap.min.css set `[hidden] { display: none !important; }` so we also need the `!important` here to be able to override the default hidden behavior on the sphinx rendered scikit-learn.org. See: https://github.com/scikit-learn/scikit-learn/issues/21755 */display: inline-block !important;position: relative;}#sk-container-id-1 div.sk-text-repr-fallback {display: none;}</style><div id=\"sk-container-id-1\" class=\"sk-top-container\"><div class=\"sk-text-repr-fallback\"><pre>LogisticRegression(C=100, max_iter=3000)</pre><b>In a Jupyter environment, please rerun this cell to show the HTML representation or trust the notebook. <br />On GitHub, the HTML representation is unable to render, please try loading this page with nbviewer.org.</b></div><div class=\"sk-container\" hidden><div class=\"sk-item\"><div class=\"sk-estimator sk-toggleable\"><input class=\"sk-toggleable__control sk-hidden--visually\" id=\"sk-estimator-id-1\" type=\"checkbox\" checked><label for=\"sk-estimator-id-1\" class=\"sk-toggleable__label sk-toggleable__label-arrow\">LogisticRegression</label><div class=\"sk-toggleable__content\"><pre>LogisticRegression(C=100, max_iter=3000)</pre></div></div></div></div></div>"
            ],
            "text/plain": [
              "LogisticRegression(C=100, max_iter=3000)"
            ]
          },
          "execution_count": 87,
          "metadata": {},
          "output_type": "execute_result"
        }
      ],
      "source": [
        "cv.best_estimator_"
      ]
    },
    {
      "cell_type": "markdown",
      "id": "db889f51-8f72-483a-93c5-52ee96f45376",
      "metadata": {
        "id": "db889f51-8f72-483a-93c5-52ee96f45376"
      },
      "source": [
        "Learning Curve"
      ]
    },
    {
      "cell_type": "code",
      "execution_count": null,
      "id": "dcd27565-34c2-4360-87dc-e352313243dd",
      "metadata": {
        "id": "dcd27565-34c2-4360-87dc-e352313243dd"
      },
      "outputs": [],
      "source": [
        "from sklearn.model_selection import learning_curve\n",
        "# the training data is 60% of the whole data --> 206\n",
        "# we are doing 5-fold cross validation with 80% training set and 20% validation set:\n",
        "# 206 training example : 80% training (164) 20% validation (42) in cross validation\n",
        "train_sizes = [5, 20, 40, 60, 80, 100, 120, 140, 164]\n",
        "train_sizes, train_scores, validation_scores = learning_curve(\n",
        "estimator = LogisticRegression(C=100, max_iter=3000),\n",
        "X = tr_features,\n",
        "y = tr_labels.values.ravel(), train_sizes = train_sizes, cv = 5,\n",
        "scoring = 'neg_mean_squared_error')"
      ]
    },
    {
      "cell_type": "code",
      "execution_count": null,
      "id": "11b4dcfb-5dda-4602-9126-9481812e5da7",
      "metadata": {
        "id": "11b4dcfb-5dda-4602-9126-9481812e5da7",
        "outputId": "09cce59a-79fc-4875-b086-a2dcd241fb06"
      },
      "outputs": [
        {
          "name": "stdout",
          "output_type": "stream",
          "text": [
            "Mean training scores\n",
            "\n",
            " 5      NaN\n",
            "20    -0.0\n",
            "40    -0.0\n",
            "60    -0.0\n",
            "80    -0.0\n",
            "100   -0.0\n",
            "120   -0.0\n",
            "140   -0.0\n",
            "164   -0.0\n",
            "dtype: float64\n",
            "\n",
            " --------------------\n",
            "\n",
            "Mean validation scores\n",
            "\n",
            " 5           NaN\n",
            "20     0.345296\n",
            "40     0.043786\n",
            "60     0.034030\n",
            "80     0.029152\n",
            "100    0.019396\n",
            "120    0.004878\n",
            "140   -0.000000\n",
            "164   -0.000000\n",
            "dtype: float64\n"
          ]
        }
      ],
      "source": [
        "train_scores_mean = -train_scores.mean(axis = 1)\n",
        "validation_scores_mean = -validation_scores.mean(axis = 1)\n",
        "print('Mean training scores\\n\\n', pd.Series(train_scores_mean, index = train_sizes))\n",
        "print('\\n', '-' * 20) # separator\n",
        "print('\\nMean validation scores\\n\\n',pd.Series(validation_scores_mean, index = train_sizes))"
      ]
    },
    {
      "cell_type": "markdown",
      "id": "ae989711-dbf1-4dcd-b176-45ff15ff3190",
      "metadata": {
        "id": "ae989711-dbf1-4dcd-b176-45ff15ff3190"
      },
      "source": [
        "During training, the LR model has zero error regardless of the training set size, suggesting that it can perfectly fit and predict the training data. However, when tested on the validation set, the model has the highest error score when the training set size is 5, indicating that it is underfitting due to the small number of training data points. As the training set size increases, the error rate decreases and reaches zero at 80, but then increases again. This suggests that more training data would likely improve the performance of the LR model."
      ]
    },
    {
      "cell_type": "code",
      "execution_count": null,
      "id": "d961c10d-cfa6-4b72-86b1-d3f03a5222d4",
      "metadata": {
        "id": "d961c10d-cfa6-4b72-86b1-d3f03a5222d4",
        "outputId": "926f51f2-4ed5-4076-8c3e-97049581e1de"
      },
      "outputs": [
        {
          "data": {
            "text/plain": [
              "(0.0, 0.3)"
            ]
          },
          "execution_count": 95,
          "metadata": {},
          "output_type": "execute_result"
        },
        {
          "data": {
            "image/png": "[encoded data removed]",
            "text/plain": [
              "<Figure size 640x480 with 1 Axes>"
            ]
          },
          "metadata": {},
          "output_type": "display_data"
        }
      ],
      "source": [
        "import matplotlib.pyplot as plt\n",
        "\n",
        "plt.plot(train_sizes, train_scores_mean, label = 'Training error')\n",
        "plt.plot(train_sizes, validation_scores_mean, label = 'Validation error')\n",
        "plt.ylabel('MSE', fontsize = 14)\n",
        "plt.xlabel('Training set size', fontsize = 14)\n",
        "plt.title('Learning curves for a LR model', fontsize = 18, y = 1.03)\n",
        "plt.legend()\n",
        "plt.ylim(0,0.3)"
      ]
    },
    {
      "cell_type": "markdown",
      "id": "0af69f7f-759c-4997-aab0-f8d937fcac47",
      "metadata": {
        "id": "0af69f7f-759c-4997-aab0-f8d937fcac47"
      },
      "source": [
        "The training score of 0 for all training set sizes suggests that the model is either perfectly fitting the training data or that there was a human error in outputting the scores. Since training scores should not be zero and should increase slightly as the training set size increases, I assume that the model is perfectly fitting the training data.\n",
        "\n",
        "The learning curve supports this assumption, as it shows that the number of errors on the validation set decreases as the training set size increases, suggesting that the model is improving at generalizing to new data. The number of validation errors reaches 0 at a training set size of around 80 and then increases slightly afterwards. Assuming that the training error is correct, the fact that the training and validation lines do not converge suggests that increasing the number of training data points may be useful.\n",
        "\n",
        "Since both training and validation errors are low and the gap between the two is narrow, we can conclude that the model has low bias and variance, meaning that it has the optimal complexity."
      ]
    },
    {
      "cell_type": "code",
      "execution_count": null,
      "id": "05609f77-f27e-4c36-9c62-88708ad081d1",
      "metadata": {
        "id": "05609f77-f27e-4c36-9c62-88708ad081d1",
        "outputId": "1a0b6dd2-a3c6-40e4-fb98-8ba14c41855c"
      },
      "outputs": [
        {
          "data": {
            "text/plain": [
              "['LR_model.pkl']"
            ]
          },
          "execution_count": 96,
          "metadata": {},
          "output_type": "execute_result"
        }
      ],
      "source": [
        "joblib.dump(cv.best_estimator_, 'LR_model.pkl')"
      ]
    },
    {
      "cell_type": "markdown",
      "id": "74617737-a73e-458e-8680-ba6860be3775",
      "metadata": {
        "id": "74617737-a73e-458e-8680-ba6860be3775"
      },
      "source": [
        "**Random Forest**"
      ]
    },
    {
      "cell_type": "code",
      "execution_count": null,
      "id": "49ae0ec8-a7e1-4d05-857b-99f7b0fe0944",
      "metadata": {
        "id": "49ae0ec8-a7e1-4d05-857b-99f7b0fe0944"
      },
      "outputs": [],
      "source": [
        "import joblib\n",
        "import pandas as pd\n",
        "from sklearn.ensemble import RandomForestClassifier\n",
        "from sklearn.model_selection import GridSearchCV\n",
        "import warnings\n",
        "warnings.filterwarnings('ignore', category=FutureWarning)\n",
        "warnings.filterwarnings('ignore', category=DeprecationWarning)\n",
        "\n",
        "tr_features = pd.read_csv('train_features.csv')\n",
        "tr_labels = pd.read_csv('train_labels.csv')"
      ]
    },
    {
      "cell_type": "code",
      "execution_count": null,
      "id": "c60398df-04b2-4cb3-a8e1-8dae7f266a94",
      "metadata": {
        "id": "c60398df-04b2-4cb3-a8e1-8dae7f266a94",
        "outputId": "b9bc5b88-e1aa-45b4-8ea8-89060659cb8b"
      },
      "outputs": [
        {
          "name": "stdout",
          "output_type": "stream",
          "text": [
            "BEST PARAMS: {'max_depth': 4, 'n_estimators': 250}\n",
            "\n",
            "0.942 (+/-0.073) for {'max_depth': 2, 'n_estimators': 5}\n",
            "0.956 (+/-0.065) for {'max_depth': 2, 'n_estimators': 50}\n",
            "0.961 (+/-0.085) for {'max_depth': 2, 'n_estimators': 250}\n",
            "0.976 (+/-0.076) for {'max_depth': 4, 'n_estimators': 5}\n",
            "0.976 (+/-0.053) for {'max_depth': 4, 'n_estimators': 50}\n",
            "0.981 (+/-0.036) for {'max_depth': 4, 'n_estimators': 250}\n",
            "0.961 (+/-0.09) for {'max_depth': 8, 'n_estimators': 5}\n",
            "0.976 (+/-0.076) for {'max_depth': 8, 'n_estimators': 50}\n",
            "0.981 (+/-0.036) for {'max_depth': 8, 'n_estimators': 250}\n",
            "0.971 (+/-0.048) for {'max_depth': 16, 'n_estimators': 5}\n",
            "0.981 (+/-0.036) for {'max_depth': 16, 'n_estimators': 50}\n",
            "0.981 (+/-0.036) for {'max_depth': 16, 'n_estimators': 250}\n",
            "0.971 (+/-0.072) for {'max_depth': 32, 'n_estimators': 5}\n",
            "0.976 (+/-0.031) for {'max_depth': 32, 'n_estimators': 50}\n",
            "0.981 (+/-0.036) for {'max_depth': 32, 'n_estimators': 250}\n",
            "0.956 (+/-0.065) for {'max_depth': None, 'n_estimators': 5}\n",
            "0.981 (+/-0.036) for {'max_depth': None, 'n_estimators': 50}\n",
            "0.981 (+/-0.036) for {'max_depth': None, 'n_estimators': 250}\n"
          ]
        }
      ],
      "source": [
        "rf = RandomForestClassifier()\n",
        "parameters = {\n",
        "    'n_estimators': [5, 50, 250],\n",
        "    'max_depth': [2, 4, 8, 16, 32, None]\n",
        "}\n",
        "\n",
        "cv = GridSearchCV(rf, parameters, cv=5)\n",
        "cv.fit(tr_features, tr_labels.values.ravel())\n",
        "\n",
        "print_results(cv)"
      ]
    },
    {
      "cell_type": "markdown",
      "id": "f7f3972e-ec3a-4b3e-9f85-6d5383827d5a",
      "metadata": {
        "id": "f7f3972e-ec3a-4b3e-9f85-6d5383827d5a"
      },
      "source": [
        "Both the n_estimators and max_depth parameters affect model performance, with n_estimators having a greater impact. The model achieves its highest performance of 98.6% with 250 estimators and a max_depth of 8."
      ]
    },
    {
      "cell_type": "code",
      "execution_count": null,
      "id": "82264c44-740e-4765-bf80-94b8fa7e3b73",
      "metadata": {
        "id": "82264c44-740e-4765-bf80-94b8fa7e3b73",
        "outputId": "00aa0958-8004-4b10-fa24-31bcd415362e"
      },
      "outputs": [
        {
          "data": {
            "text/html": [
              "<style>#sk-container-id-2 {color: black;}#sk-container-id-2 pre{padding: 0;}#sk-container-id-2 div.sk-toggleable {background-color: white;}#sk-container-id-2 label.sk-toggleable__label {cursor: pointer;display: block;width: 100%;margin-bottom: 0;padding: 0.3em;box-sizing: border-box;text-align: center;}#sk-container-id-2 label.sk-toggleable__label-arrow:before {content: \"▸\";float: left;margin-right: 0.25em;color: #696969;}#sk-container-id-2 label.sk-toggleable__label-arrow:hover:before {color: black;}#sk-container-id-2 div.sk-estimator:hover label.sk-toggleable__label-arrow:before {color: black;}#sk-container-id-2 div.sk-toggleable__content {max-height: 0;max-width: 0;overflow: hidden;text-align: left;background-color: #f0f8ff;}#sk-container-id-2 div.sk-toggleable__content pre {margin: 0.2em;color: black;border-radius: 0.25em;background-color: #f0f8ff;}#sk-container-id-2 input.sk-toggleable__control:checked~div.sk-toggleable__content {max-height: 200px;max-width: 100%;overflow: auto;}#sk-container-id-2 input.sk-toggleable__control:checked~label.sk-toggleable__label-arrow:before {content: \"▾\";}#sk-container-id-2 div.sk-estimator input.sk-toggleable__control:checked~label.sk-toggleable__label {background-color: #d4ebff;}#sk-container-id-2 div.sk-label input.sk-toggleable__control:checked~label.sk-toggleable__label {background-color: #d4ebff;}#sk-container-id-2 input.sk-hidden--visually {border: 0;clip: rect(1px 1px 1px 1px);clip: rect(1px, 1px, 1px, 1px);height: 1px;margin: -1px;overflow: hidden;padding: 0;position: absolute;width: 1px;}#sk-container-id-2 div.sk-estimator {font-family: monospace;background-color: #f0f8ff;border: 1px dotted black;border-radius: 0.25em;box-sizing: border-box;margin-bottom: 0.5em;}#sk-container-id-2 div.sk-estimator:hover {background-color: #d4ebff;}#sk-container-id-2 div.sk-parallel-item::after {content: \"\";width: 100%;border-bottom: 1px solid gray;flex-grow: 1;}#sk-container-id-2 div.sk-label:hover label.sk-toggleable__label {background-color: #d4ebff;}#sk-container-id-2 div.sk-serial::before {content: \"\";position: absolute;border-left: 1px solid gray;box-sizing: border-box;top: 0;bottom: 0;left: 50%;z-index: 0;}#sk-container-id-2 div.sk-serial {display: flex;flex-direction: column;align-items: center;background-color: white;padding-right: 0.2em;padding-left: 0.2em;position: relative;}#sk-container-id-2 div.sk-item {position: relative;z-index: 1;}#sk-container-id-2 div.sk-parallel {display: flex;align-items: stretch;justify-content: center;background-color: white;position: relative;}#sk-container-id-2 div.sk-item::before, #sk-container-id-2 div.sk-parallel-item::before {content: \"\";position: absolute;border-left: 1px solid gray;box-sizing: border-box;top: 0;bottom: 0;left: 50%;z-index: -1;}#sk-container-id-2 div.sk-parallel-item {display: flex;flex-direction: column;z-index: 1;position: relative;background-color: white;}#sk-container-id-2 div.sk-parallel-item:first-child::after {align-self: flex-end;width: 50%;}#sk-container-id-2 div.sk-parallel-item:last-child::after {align-self: flex-start;width: 50%;}#sk-container-id-2 div.sk-parallel-item:only-child::after {width: 0;}#sk-container-id-2 div.sk-dashed-wrapped {border: 1px dashed gray;margin: 0 0.4em 0.5em 0.4em;box-sizing: border-box;padding-bottom: 0.4em;background-color: white;}#sk-container-id-2 div.sk-label label {font-family: monospace;font-weight: bold;display: inline-block;line-height: 1.2em;}#sk-container-id-2 div.sk-label-container {text-align: center;}#sk-container-id-2 div.sk-container {/* jupyter's `normalize.less` sets `[hidden] { display: none; }` but bootstrap.min.css set `[hidden] { display: none !important; }` so we also need the `!important` here to be able to override the default hidden behavior on the sphinx rendered scikit-learn.org. See: https://github.com/scikit-learn/scikit-learn/issues/21755 */display: inline-block !important;position: relative;}#sk-container-id-2 div.sk-text-repr-fallback {display: none;}</style><div id=\"sk-container-id-2\" class=\"sk-top-container\"><div class=\"sk-text-repr-fallback\"><pre>RandomForestClassifier(max_depth=4, n_estimators=250)</pre><b>In a Jupyter environment, please rerun this cell to show the HTML representation or trust the notebook. <br />On GitHub, the HTML representation is unable to render, please try loading this page with nbviewer.org.</b></div><div class=\"sk-container\" hidden><div class=\"sk-item\"><div class=\"sk-estimator sk-toggleable\"><input class=\"sk-toggleable__control sk-hidden--visually\" id=\"sk-estimator-id-2\" type=\"checkbox\" checked><label for=\"sk-estimator-id-2\" class=\"sk-toggleable__label sk-toggleable__label-arrow\">RandomForestClassifier</label><div class=\"sk-toggleable__content\"><pre>RandomForestClassifier(max_depth=4, n_estimators=250)</pre></div></div></div></div></div>"
            ],
            "text/plain": [
              "RandomForestClassifier(max_depth=4, n_estimators=250)"
            ]
          },
          "execution_count": 100,
          "metadata": {},
          "output_type": "execute_result"
        }
      ],
      "source": [
        "cv.best_estimator_"
      ]
    },
    {
      "cell_type": "code",
      "execution_count": null,
      "id": "875f81bd-19dc-46b6-ae3d-e20211b74919",
      "metadata": {
        "id": "875f81bd-19dc-46b6-ae3d-e20211b74919"
      },
      "outputs": [],
      "source": [
        "Learning Curve"
      ]
    },
    {
      "cell_type": "code",
      "execution_count": null,
      "id": "6f0943b7-f5a5-43c3-a8a6-601b3681aee1",
      "metadata": {
        "id": "6f0943b7-f5a5-43c3-a8a6-601b3681aee1"
      },
      "outputs": [],
      "source": [
        "from sklearn.model_selection import learning_curve\n",
        "# the training data is 60% of the whole data --> 206\n",
        "# we are doing 5-fold cross validation with 80% training set and 20% validation set:\n",
        "# 206 training example : 80% training (164) 20% validation (42) in cross validation\n",
        "train_sizes = [5, 20, 40, 60, 80, 100, 120, 140, 164]\n",
        "train_sizes, train_scores, validation_scores = learning_curve(\n",
        "estimator = RandomForestClassifier(max_depth=8, n_estimators=250),\n",
        "X = tr_features,\n",
        "y = tr_labels.values.ravel(), train_sizes = train_sizes, cv = 5,\n",
        "scoring = 'neg_mean_squared_error')"
      ]
    },
    {
      "cell_type": "code",
      "execution_count": null,
      "id": "8cf35901-2985-4f4e-aa39-37788dc6e551",
      "metadata": {
        "id": "8cf35901-2985-4f4e-aa39-37788dc6e551",
        "outputId": "ce938f65-26eb-4c05-c907-58f8636ea09c"
      },
      "outputs": [
        {
          "name": "stdout",
          "output_type": "stream",
          "text": [
            "Mean training scores\n",
            "\n",
            " 5     -0.0\n",
            "20    -0.0\n",
            "40    -0.0\n",
            "60    -0.0\n",
            "80    -0.0\n",
            "100   -0.0\n",
            "120   -0.0\n",
            "140   -0.0\n",
            "164   -0.0\n",
            "dtype: float64\n",
            "\n",
            " --------------------\n",
            "\n",
            "Mean validation scores\n",
            "\n",
            " 5      0.551568\n",
            "20     0.058537\n",
            "40     0.038908\n",
            "60     0.043670\n",
            "80     0.043670\n",
            "100    0.038792\n",
            "120    0.024274\n",
            "140    0.024274\n",
            "164    0.019396\n",
            "dtype: float64\n"
          ]
        }
      ],
      "source": [
        "train_scores_mean = -train_scores.mean(axis = 1)\n",
        "validation_scores_mean = -validation_scores.mean(axis = 1)\n",
        "print('Mean training scores\\n\\n', pd.Series(train_scores_mean, index = train_sizes))\n",
        "print('\\n', '-' * 20) # separator\n",
        "print('\\nMean validation scores\\n\\n',pd.Series(validation_scores_mean, index = train_sizes))"
      ]
    },
    {
      "cell_type": "markdown",
      "id": "81e63a8d-8c32-4d72-a2e5-e9e2c55bb67d",
      "metadata": {
        "id": "81e63a8d-8c32-4d72-a2e5-e9e2c55bb67d"
      },
      "source": [
        "During training, the model perfectly fits and predicts the data regardless of the training set size. However, when tested on the validation set, the model makes many errors for smaller training set sizes, suggesting that it is unable to generalize. As the training set size increases, the number of errors decreases, indicating that the model is improving and making more accurate predictions."
      ]
    },
    {
      "cell_type": "code",
      "execution_count": null,
      "id": "d0845a6e-49a5-4a09-b1f9-2f05d92108ed",
      "metadata": {
        "id": "d0845a6e-49a5-4a09-b1f9-2f05d92108ed",
        "outputId": "92c7af62-fc3f-444c-8d37-22d4cc1ca40f"
      },
      "outputs": [
        {
          "data": {
            "text/plain": [
              "(0.0, 0.4)"
            ]
          },
          "execution_count": 104,
          "metadata": {},
          "output_type": "execute_result"
        },
        {
          "data": {
            "image/png": "[encoded data removed]",
            "text/plain": [
              "<Figure size 640x480 with 1 Axes>"
            ]
          },
          "metadata": {},
          "output_type": "display_data"
        }
      ],
      "source": [
        "import matplotlib.pyplot as plt\n",
        "\n",
        "# plt.style.use('seaborn')\n",
        "plt.plot(train_sizes, train_scores_mean, label = 'Training error')\n",
        "plt.plot(train_sizes, validation_scores_mean, label = 'Validation error')\n",
        "plt.ylabel('MSE', fontsize = 14)\n",
        "plt.xlabel('Training set size', fontsize = 14)\n",
        "plt.title('Learning curves for RF model', fontsize = 18, y = 1.03)\n",
        "plt.legend()\n",
        "plt.ylim(0,0.4)"
      ]
    },
    {
      "cell_type": "markdown",
      "id": "ee93c2c6-b910-47f4-bddb-fc16a3e6cb57",
      "metadata": {
        "id": "ee93c2c6-b910-47f4-bddb-fc16a3e6cb57"
      },
      "source": [
        "A low training error and a high validation error suggest that the random forest model has low bias and high variance, meaning that it is overfitting the training data. Increasing the number of data points in the training set can help to reduce overfitting, but it is important to use other techniques as well, such as regularization or ensemble learning.\n"
      ]
    },
    {
      "cell_type": "code",
      "execution_count": null,
      "id": "331348fa-8bd3-40b1-8995-d0e7dd1b2a52",
      "metadata": {
        "id": "331348fa-8bd3-40b1-8995-d0e7dd1b2a52",
        "outputId": "979aa2ea-bff2-45a8-8554-c38a430506a3"
      },
      "outputs": [
        {
          "data": {
            "text/plain": [
              "['RF_model.pkl']"
            ]
          },
          "execution_count": 105,
          "metadata": {},
          "output_type": "execute_result"
        }
      ],
      "source": [
        "joblib.dump(cv.best_estimator_, 'RF_model.pkl')"
      ]
    },
    {
      "cell_type": "markdown",
      "id": "270587fd-0305-4268-8e95-be9039184f7c",
      "metadata": {
        "id": "270587fd-0305-4268-8e95-be9039184f7c"
      },
      "source": [
        "Model comparison"
      ]
    },
    {
      "cell_type": "code",
      "execution_count": null,
      "id": "98a6333f-833f-4526-a428-c7b6186dd891",
      "metadata": {
        "id": "98a6333f-833f-4526-a428-c7b6186dd891"
      },
      "outputs": [],
      "source": [
        "import joblib\n",
        "import pandas as pd\n",
        "from sklearn.metrics import accuracy_score, precision_score, recall_score\n",
        "from time import time\n",
        "\n",
        "val_features = pd.read_csv('val_features.csv')\n",
        "val_labels = pd.read_csv('val_labels.csv')\n",
        "\n",
        "te_features = pd.read_csv('test_features.csv')\n",
        "te_labels = pd.read_csv('test_labels.csv')"
      ]
    },
    {
      "cell_type": "code",
      "execution_count": null,
      "id": "e686f263-cfab-460c-a6d2-2fd459da4183",
      "metadata": {
        "id": "e686f263-cfab-460c-a6d2-2fd459da4183"
      },
      "outputs": [],
      "source": [
        "models = {}\n",
        "\n",
        "for mdl in ['LR', 'RF']:\n",
        "    models[mdl] = joblib.load('{}_model.pkl'.format(mdl))"
      ]
    },
    {
      "cell_type": "code",
      "execution_count": null,
      "id": "3df5e42c-98b9-48b7-949d-899b1f1efed5",
      "metadata": {
        "id": "3df5e42c-98b9-48b7-949d-899b1f1efed5",
        "outputId": "b0d3a63f-4347-4f9c-cdcd-702fe93f4b5c"
      },
      "outputs": [
        {
          "data": {
            "text/plain": [
              "{'LR': LogisticRegression(C=100, max_iter=3000),\n",
              " 'RF': RandomForestClassifier(max_depth=4, n_estimators=250)}"
            ]
          },
          "execution_count": 108,
          "metadata": {},
          "output_type": "execute_result"
        }
      ],
      "source": [
        "models"
      ]
    },
    {
      "cell_type": "markdown",
      "id": "d56634f9-359e-4564-9b2e-6953dad3a358",
      "metadata": {
        "id": "d56634f9-359e-4564-9b2e-6953dad3a358"
      },
      "source": [
        "Evaluating models"
      ]
    },
    {
      "cell_type": "code",
      "execution_count": null,
      "id": "bcc65f91-aa9f-42a7-b71a-eec28385f5a4",
      "metadata": {
        "id": "bcc65f91-aa9f-42a7-b71a-eec28385f5a4"
      },
      "outputs": [],
      "source": [
        "def evaluate_model(name, model, features, labels):\n",
        "    start = time()\n",
        "    pred = model.predict(features)\n",
        "    end = time()\n",
        "    latency = round((end - start)*1000, 1)\n",
        "    accuracy = round(accuracy_score(labels, pred), 3)\n",
        "    precision = round(precision_score(labels, pred, average='macro'), 3)\n",
        "    recall = round(recall_score(labels, pred, average='macro'), 3)\n",
        "    print('{} --> Accuracy= {} | Precision= {} | Recall= {} | Latency= {}ms'.format(name, accuracy, precision, recall, latency ))"
      ]
    },
    {
      "cell_type": "code",
      "execution_count": null,
      "id": "d7797c81-565a-4a59-b7f4-7f8654d3b5ef",
      "metadata": {
        "id": "d7797c81-565a-4a59-b7f4-7f8654d3b5ef",
        "outputId": "0fc3f53f-636b-4e2d-deaa-12a012077d1a"
      },
      "outputs": [
        {
          "name": "stdout",
          "output_type": "stream",
          "text": [
            "LR --> Accuracy= 0.986 | Precision= 0.987 | Recall= 0.99 | Latency= 7.1ms\n",
            "RF --> Accuracy= 0.971 | Precision= 0.966 | Recall= 0.976 | Latency= 88.7ms\n"
          ]
        }
      ],
      "source": [
        "for name, mdl in models.items():\n",
        "    evaluate_model(name, mdl, val_features, val_labels)"
      ]
    },
    {
      "cell_type": "markdown",
      "id": "54fe3ca4-8ff7-414a-b443-ee2884d630c9",
      "metadata": {
        "id": "54fe3ca4-8ff7-414a-b443-ee2884d630c9"
      },
      "source": [
        "Evaluate models on test set"
      ]
    },
    {
      "cell_type": "code",
      "execution_count": null,
      "id": "28a3c3d2-1bd1-40e0-822b-d955a0176de8",
      "metadata": {
        "id": "28a3c3d2-1bd1-40e0-822b-d955a0176de8",
        "outputId": "b70de436-a540-437e-8712-ec726ade40f3"
      },
      "outputs": [
        {
          "name": "stdout",
          "output_type": "stream",
          "text": [
            "LR --> Accuracy= 0.986 | Precision= 0.987 | Recall= 0.99 | Latency= 6.8ms\n",
            "RF --> Accuracy= 0.986 | Precision= 0.974 | Recall= 0.99 | Latency= 101.6ms\n"
          ]
        }
      ],
      "source": [
        "for name, mdl in models.items():\n",
        "    evaluate_model(name, mdl, te_features, te_labels)"
      ]
    },
    {
      "cell_type": "markdown",
      "id": "59618074-5995-4299-8ecf-5b9b6e351d6b",
      "metadata": {
        "id": "59618074-5995-4299-8ecf-5b9b6e351d6b"
      },
      "source": [
        "After running the model on the test set, we can see that the accuracy score dropped for RF making  LR the highest"
      ]
    },
    {
      "cell_type": "markdown",
      "id": "2f718a0e-b80f-4529-a8f9-3ab356b30ae2",
      "metadata": {
        "id": "2f718a0e-b80f-4529-a8f9-3ab356b30ae2"
      },
      "source": [
        "Linear Regression (LR) exhibited strong performance with an accuracy of 98.6%. It also achieved high precision (98.7%) and recall (99.0%), indicating that it effectively classified penguin species."
      ]
    },
    {
      "cell_type": "markdown",
      "id": "cf675ad0-2094-4fa7-86f4-009e9b36881a",
      "metadata": {
        "id": "cf675ad0-2094-4fa7-86f4-009e9b36881a"
      },
      "source": [
        "Random Forest (RF) also performed well with an accuracy of 97.1%. It had good precision (96.6%) and recall (97.6%), showcasing its ability to classify penguin species accurately."
      ]
    },
    {
      "cell_type": "markdown",
      "id": "4bf562ba-9028-4ee2-9609-1e8675f66fba",
      "metadata": {
        "id": "4bf562ba-9028-4ee2-9609-1e8675f66fba"
      },
      "source": [
        "Regarding latency, LR demonstrated quicker inference with an average latency of 6.8 milliseconds, making it highly responsive. In contrast, RF had a higher latency of 101.6 milliseconds, indicating that it took longer to make predictions"
      ]
    },
    {
      "cell_type": "markdown",
      "id": "ffc2183b-c60d-487d-b10c-4a0aa337f739",
      "metadata": {
        "id": "ffc2183b-c60d-487d-b10c-4a0aa337f739"
      },
      "source": [
        "In summary, both models showed strong classification performance, but LR offered faster predictions, which could be advantageous in real-time applications where low latency is crucial."
      ]
    },
    {
      "cell_type": "markdown",
      "id": "dd60afd4-0836-4cce-9c8c-99d3c9f9541d",
      "metadata": {
        "id": "dd60afd4-0836-4cce-9c8c-99d3c9f9541d"
      },
      "source": []
    },
    {
      "cell_type": "code",
      "execution_count": null,
      "id": "f9aae0e6-61b3-4ef8-b751-e78b80dab36f",
      "metadata": {
        "id": "f9aae0e6-61b3-4ef8-b751-e78b80dab36f"
      },
      "outputs": [],
      "source": []
    }
  ],
  "metadata": {
    "kernelspec": {
      "display_name": "Python 3 (ipykernel)",
      "language": "python",
      "name": "python3"
    },
    "language_info": {
      "codemirror_mode": {
        "name": "ipython",
        "version": 3
      },
      "file_extension": ".py",
      "mimetype": "text/x-python",
      "name": "python",
      "nbconvert_exporter": "python",
      "pygments_lexer": "ipython3",
      "version": "3.10.12"
    },
    "colab": {
      "provenance": [],
      "include_colab_link": true
    }
  },
  "nbformat": 4,
  "nbformat_minor": 5
}